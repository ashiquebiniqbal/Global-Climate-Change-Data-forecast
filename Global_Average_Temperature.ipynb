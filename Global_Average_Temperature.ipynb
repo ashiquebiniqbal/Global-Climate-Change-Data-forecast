{
  "nbformat": 4,
  "nbformat_minor": 0,
  "metadata": {
    "colab": {
      "provenance": []
    },
    "kernelspec": {
      "name": "python3",
      "display_name": "Python 3"
    },
    "language_info": {
      "name": "python"
    }
  },
  "cells": [
    {
      "cell_type": "markdown",
      "source": [
        "##Global Average Temperature onestep forecasting Using Random forest ensemble"
      ],
      "metadata": {
        "id": "nsybJAcX4SW4"
      }
    },
    {
      "cell_type": "code",
      "execution_count": 1,
      "metadata": {
        "id": "zbIxLk3h4MBR"
      },
      "outputs": [],
      "source": [
        "# Import the required libraries\n",
        "import pandas as pd\n",
        "from sklearn.ensemble import RandomForestRegressor\n",
        "from sklearn.metrics import mean_squared_error\n"
      ]
    },
    {
      "cell_type": "markdown",
      "source": [
        "In this first section, we import the necessary libraries: pandas for data manipulation, RandomForestRegressor from the sklearn library for building the random forest model, and mean_squared_error from sklearn.metrics to evaluate the model."
      ],
      "metadata": {
        "id": "nlc6mYHk4557"
      }
    },
    {
      "cell_type": "code",
      "source": [
        "# Load and preprocess the data\n",
        "data = pd.read_csv('https://raw.githubusercontent.com/ashiquebiniqbal/Global-Climate-Change-Data-forecsat/main/GlobalLandTemperatures.csv', parse_dates=['dt'])\n"
      ],
      "metadata": {
        "id": "azRxseJS4781"
      },
      "execution_count": 2,
      "outputs": []
    },
    {
      "cell_type": "markdown",
      "source": [
        "In this section, we load the data from a remote CSV file using pandas' read_csv method. We use parse_dates to convert the date column 'dt' into a datetime object."
      ],
      "metadata": {
        "id": "Vd4aSy-A4_B2"
      }
    },
    {
      "cell_type": "code",
      "source": [
        "data = data[['dt', 'AverageTemperature']].groupby('dt').mean().resample('MS').mean().reset_index().dropna()\n",
        "data = data.set_index('dt')\n"
      ],
      "metadata": {
        "id": "SWIXVVxj5DHn"
      },
      "execution_count": 3,
      "outputs": []
    },
    {
      "cell_type": "markdown",
      "source": [
        "Next, we select only the 'dt' and 'AverageTemperature' columns from the data frame, group by date ('dt'), take the average of temperatures for each month, and then resample the data to monthly frequency. We then set the index of the resulting data frame as the datetime column ('dt')."
      ],
      "metadata": {
        "id": "ENk6DWzs5GPG"
      }
    },
    {
      "cell_type": "code",
      "source": [
        "for i in range(1, 13):\n",
        "    data[f't_{i}'] = data['AverageTemperature'].shift(i)\n"
      ],
      "metadata": {
        "id": "8P4eSGso5Jcl"
      },
      "execution_count": 4,
      "outputs": []
    },
    {
      "cell_type": "markdown",
      "source": [
        "In this loop, we create a set of lagged features (t_1, t_2, ..., t_12) for the target variable 'AverageTemperature' using the shift method. We shift the temperature values by 1 to 12 months to create features for each month's average temperature."
      ],
      "metadata": {
        "id": "0jMOG-mZ5Lhu"
      }
    },
    {
      "cell_type": "code",
      "source": [
        "data.dropna(inplace=True)\n"
      ],
      "metadata": {
        "id": "gCMTjx_N5RkW"
      },
      "execution_count": 5,
      "outputs": []
    },
    {
      "cell_type": "markdown",
      "source": [
        "After creating the lagged features, we remove any rows containing null values."
      ],
      "metadata": {
        "id": "uhuW6-eJ5YDU"
      }
    },
    {
      "cell_type": "code",
      "source": [
        "# Split the data into lagged features and temperature values\n",
        "lags = [col for col in data.columns if col.startswith('t_')]\n",
        "X = data[lags]\n",
        "y = data['AverageTemperature']\n"
      ],
      "metadata": {
        "id": "cOE9zWVd5cpb"
      },
      "execution_count": 6,
      "outputs": []
    },
    {
      "cell_type": "markdown",
      "source": [
        "Here, we split the data frame into two sets: 'lags' containing the lagged features ('t_1' through 't_12'), and 'y' containing the target variable ('AverageTemperature'). We use 'lags' to predict the target variable 'y' in our model."
      ],
      "metadata": {
        "id": "xOcxKM-M5dm8"
      }
    },
    {
      "cell_type": "code",
      "source": [
        "print(X)"
      ],
      "metadata": {
        "colab": {
          "base_uri": "https://localhost:8080/"
        },
        "id": "_3NYpGjs6m_e",
        "outputId": "fd6b362b-2fee-4ed0-f5d7-766468bc7104"
      },
      "execution_count": 11,
      "outputs": [
        {
          "output_type": "stream",
          "name": "stdout",
          "text": [
            "                  t_1        t_2        t_3        t_4        t_5        t_6  \\\n",
            "dt                                                                             \n",
            "1745-04-01   0.627462  -2.563385  -3.186000  -0.970615   3.977538   8.212923   \n",
            "1750-01-01   6.661462   0.627462  -2.563385  -3.186000  -0.970615   3.977538   \n",
            "1750-02-01  -1.912077   6.661462   0.627462  -2.563385  -3.186000  -0.970615   \n",
            "1750-03-01  -0.215231  -1.912077   6.661462   0.627462  -2.563385  -3.186000   \n",
            "1750-04-01   3.537692  -0.215231  -1.912077   6.661462   0.627462  -2.563385   \n",
            "...               ...        ...        ...        ...        ...        ...   \n",
            "2013-05-01  19.983010  17.339370  14.615210  12.753660  13.571430  16.948740   \n",
            "2013-06-01  23.405960  19.983010  17.339370  14.615210  12.753660  13.571430   \n",
            "2013-07-01  24.341760  23.405960  19.983010  17.339370  14.615210  12.753660   \n",
            "2013-08-01  24.951320  24.341760  23.405960  19.983010  17.339370  14.615210   \n",
            "2013-09-01  24.770230  24.951320  24.341760  23.405960  19.983010  17.339370   \n",
            "\n",
            "                  t_7        t_8        t_9       t_10       t_11       t_12  \n",
            "dt                                                                            \n",
            "1745-04-01  14.177692  19.283308  17.080385  12.195385   8.796923   4.020077  \n",
            "1750-01-01   8.212923  14.177692  19.283308  17.080385  12.195385   8.796923  \n",
            "1750-02-01   3.977538   8.212923  14.177692  19.283308  17.080385  12.195385  \n",
            "1750-03-01  -0.970615   3.977538   8.212923  14.177692  19.283308  17.080385  \n",
            "1750-04-01  -3.186000  -0.970615   3.977538   8.212923  14.177692  19.283308  \n",
            "...               ...        ...        ...        ...        ...        ...  \n",
            "2013-05-01  20.487240  23.058360  24.772040  25.218990  24.663020  23.458310  \n",
            "2013-06-01  16.948740  20.487240  23.058360  24.772040  25.218990  24.663020  \n",
            "2013-07-01  13.571430  16.948740  20.487240  23.058360  24.772040  25.218990  \n",
            "2013-08-01  12.753660  13.571430  16.948740  20.487240  23.058360  24.772040  \n",
            "2013-09-01  14.615210  12.753660  13.571430  16.948740  20.487240  23.058360  \n",
            "\n",
            "[3155 rows x 12 columns]\n"
          ]
        }
      ]
    },
    {
      "cell_type": "markdown",
      "source": [
        "Here , we print the data lags which shows 12 coloumns and 3155 rows.\n"
      ],
      "metadata": {
        "id": "kyn18Ekz6w_H"
      }
    },
    {
      "cell_type": "code",
      "source": [
        "# Split the data into training and test sets\n",
        "train_size = int(len(data) * 0.8)\n",
        "X_train, X_test = X.iloc[:train_size, :], X.iloc[train_size:, :]\n",
        "y_train, y_test = y.iloc[:train_size], y.iloc[train_size:]\n"
      ],
      "metadata": {
        "id": "DKQmHbES5uuy"
      },
      "execution_count": 7,
      "outputs": []
    },
    {
      "cell_type": "markdown",
      "source": [
        "We split the data into training and test sets by setting the first 80% of the data as the training set and the remaining 20% as the test set."
      ],
      "metadata": {
        "id": "1XopVa5a5zxC"
      }
    },
    {
      "cell_type": "code",
      "source": [
        "# Train the random forest model\n",
        "n_estimators = 100\n",
        "rf = RandomForestRegressor(n_estimators=n_estimators)\n",
        "rf.fit(X_train, y_train)\n"
      ],
      "metadata": {
        "colab": {
          "base_uri": "https://localhost:8080/",
          "height": 75
        },
        "id": "2fDxSzln5106",
        "outputId": "0768e6a8-34d0-45a6-872b-ffd5cc333a35"
      },
      "execution_count": 8,
      "outputs": [
        {
          "output_type": "execute_result",
          "data": {
            "text/plain": [
              "RandomForestRegressor()"
            ],
            "text/html": [
              "<style>#sk-container-id-1 {color: black;background-color: white;}#sk-container-id-1 pre{padding: 0;}#sk-container-id-1 div.sk-toggleable {background-color: white;}#sk-container-id-1 label.sk-toggleable__label {cursor: pointer;display: block;width: 100%;margin-bottom: 0;padding: 0.3em;box-sizing: border-box;text-align: center;}#sk-container-id-1 label.sk-toggleable__label-arrow:before {content: \"▸\";float: left;margin-right: 0.25em;color: #696969;}#sk-container-id-1 label.sk-toggleable__label-arrow:hover:before {color: black;}#sk-container-id-1 div.sk-estimator:hover label.sk-toggleable__label-arrow:before {color: black;}#sk-container-id-1 div.sk-toggleable__content {max-height: 0;max-width: 0;overflow: hidden;text-align: left;background-color: #f0f8ff;}#sk-container-id-1 div.sk-toggleable__content pre {margin: 0.2em;color: black;border-radius: 0.25em;background-color: #f0f8ff;}#sk-container-id-1 input.sk-toggleable__control:checked~div.sk-toggleable__content {max-height: 200px;max-width: 100%;overflow: auto;}#sk-container-id-1 input.sk-toggleable__control:checked~label.sk-toggleable__label-arrow:before {content: \"▾\";}#sk-container-id-1 div.sk-estimator input.sk-toggleable__control:checked~label.sk-toggleable__label {background-color: #d4ebff;}#sk-container-id-1 div.sk-label input.sk-toggleable__control:checked~label.sk-toggleable__label {background-color: #d4ebff;}#sk-container-id-1 input.sk-hidden--visually {border: 0;clip: rect(1px 1px 1px 1px);clip: rect(1px, 1px, 1px, 1px);height: 1px;margin: -1px;overflow: hidden;padding: 0;position: absolute;width: 1px;}#sk-container-id-1 div.sk-estimator {font-family: monospace;background-color: #f0f8ff;border: 1px dotted black;border-radius: 0.25em;box-sizing: border-box;margin-bottom: 0.5em;}#sk-container-id-1 div.sk-estimator:hover {background-color: #d4ebff;}#sk-container-id-1 div.sk-parallel-item::after {content: \"\";width: 100%;border-bottom: 1px solid gray;flex-grow: 1;}#sk-container-id-1 div.sk-label:hover label.sk-toggleable__label {background-color: #d4ebff;}#sk-container-id-1 div.sk-serial::before {content: \"\";position: absolute;border-left: 1px solid gray;box-sizing: border-box;top: 0;bottom: 0;left: 50%;z-index: 0;}#sk-container-id-1 div.sk-serial {display: flex;flex-direction: column;align-items: center;background-color: white;padding-right: 0.2em;padding-left: 0.2em;position: relative;}#sk-container-id-1 div.sk-item {position: relative;z-index: 1;}#sk-container-id-1 div.sk-parallel {display: flex;align-items: stretch;justify-content: center;background-color: white;position: relative;}#sk-container-id-1 div.sk-item::before, #sk-container-id-1 div.sk-parallel-item::before {content: \"\";position: absolute;border-left: 1px solid gray;box-sizing: border-box;top: 0;bottom: 0;left: 50%;z-index: -1;}#sk-container-id-1 div.sk-parallel-item {display: flex;flex-direction: column;z-index: 1;position: relative;background-color: white;}#sk-container-id-1 div.sk-parallel-item:first-child::after {align-self: flex-end;width: 50%;}#sk-container-id-1 div.sk-parallel-item:last-child::after {align-self: flex-start;width: 50%;}#sk-container-id-1 div.sk-parallel-item:only-child::after {width: 0;}#sk-container-id-1 div.sk-dashed-wrapped {border: 1px dashed gray;margin: 0 0.4em 0.5em 0.4em;box-sizing: border-box;padding-bottom: 0.4em;background-color: white;}#sk-container-id-1 div.sk-label label {font-family: monospace;font-weight: bold;display: inline-block;line-height: 1.2em;}#sk-container-id-1 div.sk-label-container {text-align: center;}#sk-container-id-1 div.sk-container {/* jupyter's `normalize.less` sets `[hidden] { display: none; }` but bootstrap.min.css set `[hidden] { display: none !important; }` so we also need the `!important` here to be able to override the default hidden behavior on the sphinx rendered scikit-learn.org. See: https://github.com/scikit-learn/scikit-learn/issues/21755 */display: inline-block !important;position: relative;}#sk-container-id-1 div.sk-text-repr-fallback {display: none;}</style><div id=\"sk-container-id-1\" class=\"sk-top-container\"><div class=\"sk-text-repr-fallback\"><pre>RandomForestRegressor()</pre><b>In a Jupyter environment, please rerun this cell to show the HTML representation or trust the notebook. <br />On GitHub, the HTML representation is unable to render, please try loading this page with nbviewer.org.</b></div><div class=\"sk-container\" hidden><div class=\"sk-item\"><div class=\"sk-estimator sk-toggleable\"><input class=\"sk-toggleable__control sk-hidden--visually\" id=\"sk-estimator-id-1\" type=\"checkbox\" checked><label for=\"sk-estimator-id-1\" class=\"sk-toggleable__label sk-toggleable__label-arrow\">RandomForestRegressor</label><div class=\"sk-toggleable__content\"><pre>RandomForestRegressor()</pre></div></div></div></div></div>"
            ]
          },
          "metadata": {},
          "execution_count": 8
        }
      ]
    },
    {
      "cell_type": "markdown",
      "source": [
        "We initialize the random forest model and train it using the training data set. We set the number of trees (n_estimators) to 100."
      ],
      "metadata": {
        "id": "fCV6e3B-54Dl"
      }
    },
    {
      "cell_type": "code",
      "source": [
        "# Make one-step forecasts on the test set\n",
        "y_pred = rf.predict(X_test)\n",
        "print(f\"One-step forecast: {y_pred[0:45]}\")\n"
      ],
      "metadata": {
        "colab": {
          "base_uri": "https://localhost:8080/"
        },
        "id": "dD-94gnY57ra",
        "outputId": "523abb49-8c4d-463f-edad-fb76538d8e21"
      },
      "execution_count": 9,
      "outputs": [
        {
          "output_type": "stream",
          "name": "stdout",
          "text": [
            "One-step forecast: [16.5105164  19.65026973 22.3246089  23.74421974 24.286512   24.0420342\n",
            " 22.37924293 19.75641757 16.31557291 13.1010977  12.11247746 13.56556758\n",
            " 16.42043947 19.85971782 22.3916157  23.83613515 24.16884924 23.9707265\n",
            " 22.3259108  19.5676231  16.2321491  12.9883292  12.16955001 13.42120254\n",
            " 16.4228962  19.55852627 22.29106567 23.64495926 24.20936348 23.88651964\n",
            " 22.44562959 19.62690727 16.37518595 13.29055805 12.04594289 13.24450777\n",
            " 16.34475116 19.76048556 22.2750089  23.7055191  24.17084593 24.04949587\n",
            " 22.26498739 19.54253063 16.36538993]\n"
          ]
        }
      ]
    },
    {
      "cell_type": "markdown",
      "source": [
        "Using the trained model, we make one-step forecasts on the test set by calling the predict method. We print the first 45 predicted values."
      ],
      "metadata": {
        "id": "wh22Fz2P59uZ"
      }
    },
    {
      "cell_type": "code",
      "source": [
        "# Evaluate the model using mean squared error\n",
        "mse = mean_squared_error(y_test, y_pred)\n",
        "print(f\"Mean squared error: {mse}\")"
      ],
      "metadata": {
        "colab": {
          "base_uri": "https://localhost:8080/"
        },
        "id": "K8-9KtRL6CZs",
        "outputId": "a175a2cf-35e5-45f2-b069-d323fe5373c6"
      },
      "execution_count": 10,
      "outputs": [
        {
          "output_type": "stream",
          "name": "stdout",
          "text": [
            "Mean squared error: 1.9703710553431306\n"
          ]
        }
      ]
    },
    {
      "cell_type": "markdown",
      "source": [
        "In this section, we evaluate the performance of our model using mean squared error (MSE). We calculate the MSE by passing the actual target variable values ('y_test') and the predicted values ('y_pred') to the mean_squared_error function from sklearn.metrics. We then print the MSE value to the console using an f-string. The MSE gives us an idea of how well the model is able to predict the target variable. The lower the MSE value, the better the model's performance."
      ],
      "metadata": {
        "id": "YGpBGcxe6LQ2"
      }
    },
    {
      "cell_type": "markdown",
      "source": [],
      "metadata": {
        "id": "OewbpBW-5jOl"
      }
    }
  ]
}